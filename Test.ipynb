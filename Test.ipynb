{
 "cells": [
  {
   "cell_type": "code",
   "execution_count": 12,
   "id": "feab5ade-42b5-4bdd-89b7-e1a65ac87013",
   "metadata": {},
   "outputs": [
    {
     "name": "stdout",
     "output_type": "stream",
     "text": [
      "{\"input_shape\":[128,128,3],\"model\":\"LeNet-5\",\"output_shape\":[1],\"total_params\":1627961}\n"
     ]
    }
   ],
   "source": [
    "!curl http://127.0.0.1:5000/summary"
   ]
  },
  {
   "cell_type": "code",
   "execution_count": 19,
   "id": "7762aeb1-28e2-45c1-aed7-e56c9fa557f4",
   "metadata": {},
   "outputs": [
    {
     "name": "stdout",
     "output_type": "stream",
     "text": [
      "✅ Proper image downloaded as sample.jpg\n"
     ]
    }
   ],
   "source": [
    "import requests\n",
    "\n",
    "url = \"https://upload.wikimedia.org/wikipedia/commons/thumb/f/f9/Phoenicopterus_ruber_in_S%C3%A3o_Paulo_Zoo.jpg/320px-Phoenicopterus_ruber_in_S%C3%A3o_Paulo_Zoo.jpg\"\n",
    "headers = {\"User-Agent\": \"Mozilla/5.0\"}\n",
    "\n",
    "response = requests.get(url, headers=headers)\n",
    "\n",
    "with open(\"sample.jpg\", \"wb\") as f:\n",
    "    f.write(response.content)\n",
    "\n",
    "print(\"✅ Proper image downloaded as sample.jpg\")"
   ]
  },
  {
   "cell_type": "code",
   "execution_count": 20,
   "id": "191e6bab-a49a-4337-ab8b-e058b8286cf1",
   "metadata": {},
   "outputs": [
    {
     "name": "stderr",
     "output_type": "stream",
     "text": [
      "display-im6.q16: unable to open X server `' @ error/display.c/DisplayImageCommand/412.\n"
     ]
    }
   ],
   "source": [
    "from PIL import Image\n",
    "\n",
    "img = Image.open(\"sample.jpg\")\n",
    "img.show()"
   ]
  },
  {
   "cell_type": "code",
   "execution_count": 22,
   "id": "08a0f6d6-7df4-43b9-b89a-45a377da455c",
   "metadata": {},
   "outputs": [],
   "source": [
    "from tensorflow.keras.models import load_model\n",
    "model = load_model(\"lenet_best.keras\")"
   ]
  },
  {
   "cell_type": "code",
   "execution_count": 23,
   "id": "d5b59656-da9e-4609-b719-97db3862a25c",
   "metadata": {},
   "outputs": [
    {
     "name": "stdout",
     "output_type": "stream",
     "text": [
      "1/1 [==============================] - 0s 126ms/step\n",
      "[[0.08173585]]\n"
     ]
    }
   ],
   "source": [
    "img = Image.open(\"sample.jpg\").convert(\"RGB\")\n",
    "img = img.resize((128, 128))\n",
    "img_array = image.img_to_array(img) / 255.0\n",
    "img_array = np.expand_dims(img_array, axis=0)\n",
    "\n",
    "prediction = model.predict(img_array)\n",
    "print(prediction)"
   ]
  },
  {
   "cell_type": "code",
   "execution_count": null,
   "id": "4950c69e-0f3e-4830-9805-e92c1c465707",
   "metadata": {},
   "outputs": [],
   "source": []
  }
 ],
 "metadata": {
  "kernelspec": {
   "display_name": "Python 3 (ipykernel)",
   "language": "python",
   "name": "python3"
  },
  "language_info": {
   "codemirror_mode": {
    "name": "ipython",
    "version": 3
   },
   "file_extension": ".py",
   "mimetype": "text/x-python",
   "name": "python",
   "nbconvert_exporter": "python",
   "pygments_lexer": "ipython3",
   "version": "3.11.1"
  }
 },
 "nbformat": 4,
 "nbformat_minor": 5
}
